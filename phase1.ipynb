{
 "cells": [
  {
   "cell_type": "code",
   "execution_count": 2,
   "metadata": {},
   "outputs": [],
   "source": [
    "import numpy as np"
   ]
  },
  {
   "cell_type": "markdown",
   "metadata": {},
   "source": [
    "### Creating array from list"
   ]
  },
  {
   "cell_type": "code",
   "execution_count": 3,
   "metadata": {},
   "outputs": [
    {
     "name": "stdout",
     "output_type": "stream",
     "text": [
      "Id array [1 2 3]\n",
      "2D array [[1 2 3]\n",
      " [4 5 6]]\n"
     ]
    }
   ],
   "source": [
    "arr_1d = np.array([1,2,3])\n",
    "arr_2d = np.array([[1,2,3],[4,5,6]])\n",
    "print(\"Id array\",arr_1d)\n",
    "print(\"2D array\",arr_2d)\n",
    "\n"
   ]
  },
  {
   "cell_type": "markdown",
   "metadata": {},
   "source": [
    "### List vs numpy array"
   ]
  },
  {
   "cell_type": "code",
   "execution_count": 4,
   "metadata": {},
   "outputs": [
    {
     "name": "stdout",
     "output_type": "stream",
     "text": [
      "Python list multiplication:  [1, 2, 3, 4, 1, 2, 3, 4]\n",
      "Numpy array multiplication:  [2 4 6 8]\n"
     ]
    }
   ],
   "source": [
    "py_list = [1,2,3,4]\n",
    "print(\"Python list multiplication: \",py_list*2)\n",
    "\n",
    "np_array = np.array([1,2,3,4])\n",
    "\n",
    "print(\"Numpy array multiplication: \",np_array *2)"
   ]
  },
  {
   "cell_type": "markdown",
   "metadata": {},
   "source": [
    "### Creating array from strach"
   ]
  },
  {
   "cell_type": "code",
   "execution_count": 5,
   "metadata": {},
   "outputs": [
    {
     "name": "stdout",
     "output_type": "stream",
     "text": [
      "Zeros Array: \n",
      " [[0. 0. 0. 0. 0.]\n",
      " [0. 0. 0. 0. 0.]\n",
      " [0. 0. 0. 0. 0.]]\n",
      "Ones Array: \n",
      " [[1. 1. 1. 1. 1.]\n",
      " [1. 1. 1. 1. 1.]\n",
      " [1. 1. 1. 1. 1.]]\n",
      "Constants Arrary: \n",
      " [[3 3 3]\n",
      " [3 3 3]\n",
      " [3 3 3]]\n",
      "Random array: \n",
      " [[0.6254278  0.57262392 0.05056655 0.513103  ]\n",
      " [0.83230519 0.57929461 0.18877368 0.76125015]]\n"
     ]
    }
   ],
   "source": [
    "zeros = np.zeros((3,5))\n",
    "print(\"Zeros Array: \\n\",zeros)\n",
    "\n",
    "ones = np.ones((3,5))\n",
    "print(\"Ones Array: \\n\",ones)\n",
    "\n",
    "full = np.full((3,3),3)\n",
    "print(\"Constants Arrary: \\n\",full)\n",
    "\n",
    "random = np.random.random((2,4))\n",
    "\n",
    "print(\"Random array: \\n\",random)"
   ]
  },
  {
   "cell_type": "markdown",
   "metadata": {},
   "source": [
    "### Vector, Matrix and Tensor"
   ]
  },
  {
   "cell_type": "code",
   "execution_count": 6,
   "metadata": {},
   "outputs": [
    {
     "name": "stdout",
     "output_type": "stream",
     "text": [
      "Vector:  [1 2 3]\n",
      "Matrix:  [1 2 3]\n",
      "Tensor: \n",
      " [[[1 2]\n",
      "  [5 4]]\n",
      "\n",
      " [[3 6]\n",
      "  [9 5]]]\n"
     ]
    }
   ],
   "source": [
    "vector = np.array([1,2,3])\n",
    "print(\"Vector: \",vector)\n",
    "\n",
    "matrix = np.array([1,2,3])\n",
    "print(\"Matrix: \",matrix)\n",
    "\n",
    "tensor = np.array([[[1,2],[5,4]],[[3,6],[9,5]]])\n",
    "\n",
    "print(\"Tensor: \\n\",tensor)\n"
   ]
  },
  {
   "cell_type": "markdown",
   "metadata": {},
   "source": [
    "### Array Properties"
   ]
  },
  {
   "cell_type": "code",
   "execution_count": 7,
   "metadata": {},
   "outputs": [
    {
     "name": "stdout",
     "output_type": "stream",
     "text": [
      "Shape:  (2, 3)\n",
      "Dimension:  2\n",
      "Size:  6\n",
      "DType:  int64\n"
     ]
    }
   ],
   "source": [
    "arr = np.array([[1,2,3],\n",
    "               [4,5,6]])\n",
    "\n",
    "print(\"Shape: \",arr.shape)\n",
    "print(\"Dimension: \",arr.ndim)\n",
    "print(\"Size: \",arr.size)\n",
    "print(\"DType: \",arr.dtype)\n"
   ]
  },
  {
   "cell_type": "markdown",
   "metadata": {},
   "source": [
    "### Array Reshaping"
   ]
  },
  {
   "cell_type": "code",
   "execution_count": 10,
   "metadata": {},
   "outputs": [
    {
     "name": "stdout",
     "output_type": "stream",
     "text": [
      "Original Array:  [ 0  1  2  3  4  5  6  7  8  9 10 11]\n",
      "Reshaped Array: \n",
      " [[ 0  1  2  3]\n",
      " [ 4  5  6  7]\n",
      " [ 8  9 10 11]]\n",
      "Flattened Array:  [ 0  1  2  3  4  5  6  7  8  9 10 11]\n",
      "Revaled Array:  [ 0  1  2  3  4  5  6  7  8  9 10 11]\n",
      "Transpose: \n",
      " [[ 0  4  8]\n",
      " [ 1  5  9]\n",
      " [ 2  6 10]\n",
      " [ 3  7 11]]\n"
     ]
    }
   ],
   "source": [
    "arr = np.arange(12)\n",
    "\n",
    "print(\"Original Array: \", arr)\n",
    "\n",
    "reshaped = arr.reshape(3,4)\n",
    "\n",
    "print(\"Reshaped Array: \\n\",reshaped)\n",
    "\n",
    "flattened = reshaped.flatten()\n",
    "print(\"Flattened Array: \",flattened)\n",
    "\n",
    "# Revaled return views instead of copy\n",
    "revaled = reshaped.ravel()\n",
    "print(\"Revaled Array: \",revaled)\n",
    "\n",
    "transpose = reshaped.T\n",
    "print(\"Transpose: \\n\",transpose)\n"
   ]
  }
 ],
 "metadata": {
  "kernelspec": {
   "display_name": ".venv",
   "language": "python",
   "name": "python3"
  },
  "language_info": {
   "codemirror_mode": {
    "name": "ipython",
    "version": 3
   },
   "file_extension": ".py",
   "mimetype": "text/x-python",
   "name": "python",
   "nbconvert_exporter": "python",
   "pygments_lexer": "ipython3",
   "version": "3.12.7"
  }
 },
 "nbformat": 4,
 "nbformat_minor": 2
}
